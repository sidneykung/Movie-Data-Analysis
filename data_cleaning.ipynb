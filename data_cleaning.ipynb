{
 "metadata": {
  "language_info": {
   "codemirror_mode": {
    "name": "ipython",
    "version": 3
   },
   "file_extension": ".py",
   "mimetype": "text/x-python",
   "name": "python",
   "nbconvert_exporter": "python",
   "pygments_lexer": "ipython3",
   "version": "3.8.3-final"
  },
  "orig_nbformat": 2,
  "kernelspec": {
   "name": "Python 3.8.3 64-bit ('base': conda)",
   "display_name": "Python 3.8.3 64-bit ('base': conda)",
   "metadata": {
    "interpreter": {
     "hash": "181f68e503c14848ca7b19efffda8e928d91ce23811e7019b779e3a955f1e780"
    }
   }
  }
 },
 "nbformat": 4,
 "nbformat_minor": 2,
 "cells": [
  {
   "source": [
    "# Data Cleaning"
   ],
   "cell_type": "markdown",
   "metadata": {}
  },
  {
   "source": [
    "#### Note: This is not the final notebook. To view to my full analysis, pleasego to the analysis.ipynb notebook.\n",
    "\n",
    "In this notebook, I will be merging and cleaning four datasets from two websites, IMDB and TMDB. These files can be found in the zippedData folder in the repository.\n",
    "\n",
    "File names:\n",
    "- imdb.title.basics.csv.gz\n",
    "- imdb.title.ratings.csv.gz\n",
    "- tmdb.movies.csv.gz\n",
    "- tn.movie_budgets.csv.gz"
   ],
   "cell_type": "markdown",
   "metadata": {}
  },
  {
   "cell_type": "code",
   "execution_count": 1,
   "metadata": {},
   "outputs": [],
   "source": [
    "# importing the necessary pandas and matplotlib libraries\n",
    "import pandas as pd\n",
    "import numpy as np"
   ]
  },
  {
   "cell_type": "code",
   "execution_count": 2,
   "metadata": {},
   "outputs": [],
   "source": [
    "# loading imdb.title.basics dataset & setting it to the variable 'imdb'\n",
    "imdb = pd.read_csv('zippedData/imdb.title.basics.csv.gz')\n",
    "\n",
    "# loading imdb.title.ratings dataset & setting it to the variable 'imdb_ratings'\n",
    "imdb_ratings = pd.read_csv('zippedData/imdb.title.ratings.csv.gz')\n",
    "\n",
    "# loading tmdb.movies dataset & setting it to the variable 'movie_db'\n",
    "movie_db = pd.read_csv('zippedData/tmdb.movies.csv.gz')\n",
    "\n",
    "# loading tn.movie_budgets dataset & setting it to the variable 'movie_budgets'\n",
    "movie_budgets = pd.read_csv('zippedData/tn.movie_budgets.csv.gz')"
   ]
  },
  {
   "source": [
    "### file #1: imdb (imdb.title.basics)"
   ],
   "cell_type": "markdown",
   "metadata": {}
  },
  {
   "cell_type": "code",
   "execution_count": 3,
   "metadata": {},
   "outputs": [
    {
     "output_type": "execute_result",
     "data": {
      "text/plain": "      tconst                    primary_title              original_title  \\\n0  tt0063540                        Sunghursh                   Sunghursh   \n1  tt0066787  One Day Before the Rainy Season             Ashad Ka Ek Din   \n2  tt0069049       The Other Side of the Wind  The Other Side of the Wind   \n3  tt0069204                  Sabse Bada Sukh             Sabse Bada Sukh   \n4  tt0100275         The Wandering Soap Opera       La Telenovela Errante   \n\n   start_year  runtime_minutes                genres  \n0        2013            175.0    Action,Crime,Drama  \n1        2019            114.0       Biography,Drama  \n2        2018            122.0                 Drama  \n3        2018              NaN          Comedy,Drama  \n4        2017             80.0  Comedy,Drama,Fantasy  ",
      "text/html": "<div>\n<style scoped>\n    .dataframe tbody tr th:only-of-type {\n        vertical-align: middle;\n    }\n\n    .dataframe tbody tr th {\n        vertical-align: top;\n    }\n\n    .dataframe thead th {\n        text-align: right;\n    }\n</style>\n<table border=\"1\" class=\"dataframe\">\n  <thead>\n    <tr style=\"text-align: right;\">\n      <th></th>\n      <th>tconst</th>\n      <th>primary_title</th>\n      <th>original_title</th>\n      <th>start_year</th>\n      <th>runtime_minutes</th>\n      <th>genres</th>\n    </tr>\n  </thead>\n  <tbody>\n    <tr>\n      <th>0</th>\n      <td>tt0063540</td>\n      <td>Sunghursh</td>\n      <td>Sunghursh</td>\n      <td>2013</td>\n      <td>175.0</td>\n      <td>Action,Crime,Drama</td>\n    </tr>\n    <tr>\n      <th>1</th>\n      <td>tt0066787</td>\n      <td>One Day Before the Rainy Season</td>\n      <td>Ashad Ka Ek Din</td>\n      <td>2019</td>\n      <td>114.0</td>\n      <td>Biography,Drama</td>\n    </tr>\n    <tr>\n      <th>2</th>\n      <td>tt0069049</td>\n      <td>The Other Side of the Wind</td>\n      <td>The Other Side of the Wind</td>\n      <td>2018</td>\n      <td>122.0</td>\n      <td>Drama</td>\n    </tr>\n    <tr>\n      <th>3</th>\n      <td>tt0069204</td>\n      <td>Sabse Bada Sukh</td>\n      <td>Sabse Bada Sukh</td>\n      <td>2018</td>\n      <td>NaN</td>\n      <td>Comedy,Drama</td>\n    </tr>\n    <tr>\n      <th>4</th>\n      <td>tt0100275</td>\n      <td>The Wandering Soap Opera</td>\n      <td>La Telenovela Errante</td>\n      <td>2017</td>\n      <td>80.0</td>\n      <td>Comedy,Drama,Fantasy</td>\n    </tr>\n  </tbody>\n</table>\n</div>"
     },
     "metadata": {},
     "execution_count": 3
    }
   ],
   "source": [
    "# viewing first 5 rows of imdb.title.basics\n",
    "imdb.head()"
   ]
  },
  {
   "cell_type": "code",
   "execution_count": 4,
   "metadata": {},
   "outputs": [
    {
     "output_type": "execute_result",
     "data": {
      "text/plain": "(146144, 6)"
     },
     "metadata": {},
     "execution_count": 4
    }
   ],
   "source": [
    "# checking how many rows & columns are in imdb.title.basics\n",
    "imdb.shape"
   ]
  },
  {
   "cell_type": "code",
   "execution_count": 5,
   "metadata": {
    "tags": []
   },
   "outputs": [
    {
     "output_type": "stream",
     "name": "stdout",
     "text": "&lt;class &#39;pandas.core.frame.DataFrame&#39;&gt;\nRangeIndex: 146144 entries, 0 to 146143\nData columns (total 6 columns):\n #   Column           Non-Null Count   Dtype  \n---  ------           --------------   -----  \n 0   tconst           146144 non-null  object \n 1   primary_title    146144 non-null  object \n 2   original_title   146123 non-null  object \n 3   start_year       146144 non-null  int64  \n 4   runtime_minutes  114405 non-null  float64\n 5   genres           140736 non-null  object \ndtypes: float64(1), int64(1), object(4)\nmemory usage: 6.7+ MB\n"
    }
   ],
   "source": [
    "imdb.info()"
   ]
  },
  {
   "source": [
    "### file #2: imdb_ratings (imdb.title.ratings)"
   ],
   "cell_type": "markdown",
   "metadata": {}
  },
  {
   "cell_type": "code",
   "execution_count": 6,
   "metadata": {},
   "outputs": [
    {
     "output_type": "execute_result",
     "data": {
      "text/plain": "       tconst  averagerating  numvotes\n0  tt10356526            8.3        31\n1  tt10384606            8.9       559\n2   tt1042974            6.4        20\n3   tt1043726            4.2     50352\n4   tt1060240            6.5        21",
      "text/html": "<div>\n<style scoped>\n    .dataframe tbody tr th:only-of-type {\n        vertical-align: middle;\n    }\n\n    .dataframe tbody tr th {\n        vertical-align: top;\n    }\n\n    .dataframe thead th {\n        text-align: right;\n    }\n</style>\n<table border=\"1\" class=\"dataframe\">\n  <thead>\n    <tr style=\"text-align: right;\">\n      <th></th>\n      <th>tconst</th>\n      <th>averagerating</th>\n      <th>numvotes</th>\n    </tr>\n  </thead>\n  <tbody>\n    <tr>\n      <th>0</th>\n      <td>tt10356526</td>\n      <td>8.3</td>\n      <td>31</td>\n    </tr>\n    <tr>\n      <th>1</th>\n      <td>tt10384606</td>\n      <td>8.9</td>\n      <td>559</td>\n    </tr>\n    <tr>\n      <th>2</th>\n      <td>tt1042974</td>\n      <td>6.4</td>\n      <td>20</td>\n    </tr>\n    <tr>\n      <th>3</th>\n      <td>tt1043726</td>\n      <td>4.2</td>\n      <td>50352</td>\n    </tr>\n    <tr>\n      <th>4</th>\n      <td>tt1060240</td>\n      <td>6.5</td>\n      <td>21</td>\n    </tr>\n  </tbody>\n</table>\n</div>"
     },
     "metadata": {},
     "execution_count": 6
    }
   ],
   "source": [
    "# viewing first 5 rows of imdb.title.ratings\n",
    "imdb_ratings.head()"
   ]
  },
  {
   "cell_type": "code",
   "execution_count": 7,
   "metadata": {},
   "outputs": [
    {
     "output_type": "execute_result",
     "data": {
      "text/plain": "(73856, 3)"
     },
     "metadata": {},
     "execution_count": 7
    }
   ],
   "source": [
    "# checking how many rows & columns are in imdb.title.ratings\n",
    "imdb_ratings.shape"
   ]
  },
  {
   "cell_type": "code",
   "execution_count": 8,
   "metadata": {
    "tags": []
   },
   "outputs": [
    {
     "output_type": "stream",
     "name": "stdout",
     "text": "&lt;class &#39;pandas.core.frame.DataFrame&#39;&gt;\nRangeIndex: 73856 entries, 0 to 73855\nData columns (total 3 columns):\n #   Column         Non-Null Count  Dtype  \n---  ------         --------------  -----  \n 0   tconst         73856 non-null  object \n 1   averagerating  73856 non-null  float64\n 2   numvotes       73856 non-null  int64  \ndtypes: float64(1), int64(1), object(1)\nmemory usage: 1.7+ MB\n"
    }
   ],
   "source": [
    "imdb_ratings.info()"
   ]
  },
  {
   "source": [
    "### file #3: movie_db (tmdb.movies)"
   ],
   "cell_type": "markdown",
   "metadata": {}
  },
  {
   "cell_type": "code",
   "execution_count": 9,
   "metadata": {},
   "outputs": [
    {
     "output_type": "execute_result",
     "data": {
      "text/plain": "   Unnamed: 0            genre_ids     id original_language  \\\n0           0      [12, 14, 10751]  12444                en   \n1           1  [14, 12, 16, 10751]  10191                en   \n2           2        [12, 28, 878]  10138                en   \n3           3      [16, 35, 10751]    862                en   \n4           4        [28, 878, 12]  27205                en   \n\n                                 original_title  popularity release_date  \\\n0  Harry Potter and the Deathly Hallows: Part 1      33.533   2010-11-19   \n1                      How to Train Your Dragon      28.734   2010-03-26   \n2                                    Iron Man 2      28.515   2010-05-07   \n3                                     Toy Story      28.005   1995-11-22   \n4                                     Inception      27.920   2010-07-16   \n\n                                          title  vote_average  vote_count  \n0  Harry Potter and the Deathly Hallows: Part 1           7.7       10788  \n1                      How to Train Your Dragon           7.7        7610  \n2                                    Iron Man 2           6.8       12368  \n3                                     Toy Story           7.9       10174  \n4                                     Inception           8.3       22186  ",
      "text/html": "<div>\n<style scoped>\n    .dataframe tbody tr th:only-of-type {\n        vertical-align: middle;\n    }\n\n    .dataframe tbody tr th {\n        vertical-align: top;\n    }\n\n    .dataframe thead th {\n        text-align: right;\n    }\n</style>\n<table border=\"1\" class=\"dataframe\">\n  <thead>\n    <tr style=\"text-align: right;\">\n      <th></th>\n      <th>Unnamed: 0</th>\n      <th>genre_ids</th>\n      <th>id</th>\n      <th>original_language</th>\n      <th>original_title</th>\n      <th>popularity</th>\n      <th>release_date</th>\n      <th>title</th>\n      <th>vote_average</th>\n      <th>vote_count</th>\n    </tr>\n  </thead>\n  <tbody>\n    <tr>\n      <th>0</th>\n      <td>0</td>\n      <td>[12, 14, 10751]</td>\n      <td>12444</td>\n      <td>en</td>\n      <td>Harry Potter and the Deathly Hallows: Part 1</td>\n      <td>33.533</td>\n      <td>2010-11-19</td>\n      <td>Harry Potter and the Deathly Hallows: Part 1</td>\n      <td>7.7</td>\n      <td>10788</td>\n    </tr>\n    <tr>\n      <th>1</th>\n      <td>1</td>\n      <td>[14, 12, 16, 10751]</td>\n      <td>10191</td>\n      <td>en</td>\n      <td>How to Train Your Dragon</td>\n      <td>28.734</td>\n      <td>2010-03-26</td>\n      <td>How to Train Your Dragon</td>\n      <td>7.7</td>\n      <td>7610</td>\n    </tr>\n    <tr>\n      <th>2</th>\n      <td>2</td>\n      <td>[12, 28, 878]</td>\n      <td>10138</td>\n      <td>en</td>\n      <td>Iron Man 2</td>\n      <td>28.515</td>\n      <td>2010-05-07</td>\n      <td>Iron Man 2</td>\n      <td>6.8</td>\n      <td>12368</td>\n    </tr>\n    <tr>\n      <th>3</th>\n      <td>3</td>\n      <td>[16, 35, 10751]</td>\n      <td>862</td>\n      <td>en</td>\n      <td>Toy Story</td>\n      <td>28.005</td>\n      <td>1995-11-22</td>\n      <td>Toy Story</td>\n      <td>7.9</td>\n      <td>10174</td>\n    </tr>\n    <tr>\n      <th>4</th>\n      <td>4</td>\n      <td>[28, 878, 12]</td>\n      <td>27205</td>\n      <td>en</td>\n      <td>Inception</td>\n      <td>27.920</td>\n      <td>2010-07-16</td>\n      <td>Inception</td>\n      <td>8.3</td>\n      <td>22186</td>\n    </tr>\n  </tbody>\n</table>\n</div>"
     },
     "metadata": {},
     "execution_count": 9
    }
   ],
   "source": [
    "# viewing first 5 rows of tmdb.movies\n",
    "movie_db.head()"
   ]
  },
  {
   "cell_type": "code",
   "execution_count": 10,
   "metadata": {},
   "outputs": [
    {
     "output_type": "execute_result",
     "data": {
      "text/plain": "(26517, 10)"
     },
     "metadata": {},
     "execution_count": 10
    }
   ],
   "source": [
    "movie_db.shape"
   ]
  },
  {
   "cell_type": "code",
   "execution_count": 11,
   "metadata": {
    "tags": []
   },
   "outputs": [
    {
     "output_type": "stream",
     "name": "stdout",
     "text": "&lt;class &#39;pandas.core.frame.DataFrame&#39;&gt;\nRangeIndex: 26517 entries, 0 to 26516\nData columns (total 10 columns):\n #   Column             Non-Null Count  Dtype  \n---  ------             --------------  -----  \n 0   Unnamed: 0         26517 non-null  int64  \n 1   genre_ids          26517 non-null  object \n 2   id                 26517 non-null  int64  \n 3   original_language  26517 non-null  object \n 4   original_title     26517 non-null  object \n 5   popularity         26517 non-null  float64\n 6   release_date       26517 non-null  object \n 7   title              26517 non-null  object \n 8   vote_average       26517 non-null  float64\n 9   vote_count         26517 non-null  int64  \ndtypes: float64(2), int64(3), object(5)\nmemory usage: 2.0+ MB\n"
    }
   ],
   "source": [
    "movie_db.info()"
   ]
  },
  {
   "source": [
    "### file #4: movie_budgets (tn.movie_budgets)"
   ],
   "cell_type": "markdown",
   "metadata": {}
  },
  {
   "cell_type": "code",
   "execution_count": 12,
   "metadata": {},
   "outputs": [
    {
     "output_type": "execute_result",
     "data": {
      "text/plain": "   id  release_date                                        movie  \\\n0   1  Dec 18, 2009                                       Avatar   \n1   2  May 20, 2011  Pirates of the Caribbean: On Stranger Tides   \n2   3   Jun 7, 2019                                 Dark Phoenix   \n3   4   May 1, 2015                      Avengers: Age of Ultron   \n4   5  Dec 15, 2017            Star Wars Ep. VIII: The Last Jedi   \n\n  production_budget domestic_gross worldwide_gross  \n0      $425,000,000   $760,507,625  $2,776,345,279  \n1      $410,600,000   $241,063,875  $1,045,663,875  \n2      $350,000,000    $42,762,350    $149,762,350  \n3      $330,600,000   $459,005,868  $1,403,013,963  \n4      $317,000,000   $620,181,382  $1,316,721,747  ",
      "text/html": "<div>\n<style scoped>\n    .dataframe tbody tr th:only-of-type {\n        vertical-align: middle;\n    }\n\n    .dataframe tbody tr th {\n        vertical-align: top;\n    }\n\n    .dataframe thead th {\n        text-align: right;\n    }\n</style>\n<table border=\"1\" class=\"dataframe\">\n  <thead>\n    <tr style=\"text-align: right;\">\n      <th></th>\n      <th>id</th>\n      <th>release_date</th>\n      <th>movie</th>\n      <th>production_budget</th>\n      <th>domestic_gross</th>\n      <th>worldwide_gross</th>\n    </tr>\n  </thead>\n  <tbody>\n    <tr>\n      <th>0</th>\n      <td>1</td>\n      <td>Dec 18, 2009</td>\n      <td>Avatar</td>\n      <td>$425,000,000</td>\n      <td>$760,507,625</td>\n      <td>$2,776,345,279</td>\n    </tr>\n    <tr>\n      <th>1</th>\n      <td>2</td>\n      <td>May 20, 2011</td>\n      <td>Pirates of the Caribbean: On Stranger Tides</td>\n      <td>$410,600,000</td>\n      <td>$241,063,875</td>\n      <td>$1,045,663,875</td>\n    </tr>\n    <tr>\n      <th>2</th>\n      <td>3</td>\n      <td>Jun 7, 2019</td>\n      <td>Dark Phoenix</td>\n      <td>$350,000,000</td>\n      <td>$42,762,350</td>\n      <td>$149,762,350</td>\n    </tr>\n    <tr>\n      <th>3</th>\n      <td>4</td>\n      <td>May 1, 2015</td>\n      <td>Avengers: Age of Ultron</td>\n      <td>$330,600,000</td>\n      <td>$459,005,868</td>\n      <td>$1,403,013,963</td>\n    </tr>\n    <tr>\n      <th>4</th>\n      <td>5</td>\n      <td>Dec 15, 2017</td>\n      <td>Star Wars Ep. VIII: The Last Jedi</td>\n      <td>$317,000,000</td>\n      <td>$620,181,382</td>\n      <td>$1,316,721,747</td>\n    </tr>\n  </tbody>\n</table>\n</div>"
     },
     "metadata": {},
     "execution_count": 12
    }
   ],
   "source": [
    "# viewing first 5 rows of tn.movie_budgets\n",
    "movie_budgets.head()"
   ]
  },
  {
   "cell_type": "code",
   "execution_count": 13,
   "metadata": {},
   "outputs": [
    {
     "output_type": "execute_result",
     "data": {
      "text/plain": "(5782, 6)"
     },
     "metadata": {},
     "execution_count": 13
    }
   ],
   "source": [
    "movie_budgets.shape"
   ]
  },
  {
   "cell_type": "code",
   "execution_count": 14,
   "metadata": {
    "tags": []
   },
   "outputs": [
    {
     "output_type": "stream",
     "name": "stdout",
     "text": "&lt;class &#39;pandas.core.frame.DataFrame&#39;&gt;\nRangeIndex: 5782 entries, 0 to 5781\nData columns (total 6 columns):\n #   Column             Non-Null Count  Dtype \n---  ------             --------------  ----- \n 0   id                 5782 non-null   int64 \n 1   release_date       5782 non-null   object\n 2   movie              5782 non-null   object\n 3   production_budget  5782 non-null   object\n 4   domestic_gross     5782 non-null   object\n 5   worldwide_gross    5782 non-null   object\ndtypes: int64(1), object(5)\nmemory usage: 271.2+ KB\n"
    }
   ],
   "source": [
    "movie_budgets.info()"
   ]
  },
  {
   "source": [
    "## Merging DataFrames"
   ],
   "cell_type": "markdown",
   "metadata": {}
  },
  {
   "source": [
    "### Merging imdb with imdb_ratings"
   ],
   "cell_type": "markdown",
   "metadata": {}
  },
  {
   "cell_type": "code",
   "execution_count": 15,
   "metadata": {},
   "outputs": [],
   "source": [
    "# Using a Left Join to combine on the tconst column, and setting that to full_imdb\n",
    "full_imdb = pd.merge(imdb,imdb_ratings, how='left', on='tconst')"
   ]
  },
  {
   "cell_type": "code",
   "execution_count": 16,
   "metadata": {},
   "outputs": [
    {
     "output_type": "execute_result",
     "data": {
      "text/plain": "      tconst                    primary_title              original_title  \\\n0  tt0063540                        Sunghursh                   Sunghursh   \n1  tt0066787  One Day Before the Rainy Season             Ashad Ka Ek Din   \n2  tt0069049       The Other Side of the Wind  The Other Side of the Wind   \n3  tt0069204                  Sabse Bada Sukh             Sabse Bada Sukh   \n4  tt0100275         The Wandering Soap Opera       La Telenovela Errante   \n\n   start_year  runtime_minutes                genres  averagerating  numvotes  \n0        2013            175.0    Action,Crime,Drama            7.0      77.0  \n1        2019            114.0       Biography,Drama            7.2      43.0  \n2        2018            122.0                 Drama            6.9    4517.0  \n3        2018              NaN          Comedy,Drama            6.1      13.0  \n4        2017             80.0  Comedy,Drama,Fantasy            6.5     119.0  ",
      "text/html": "<div>\n<style scoped>\n    .dataframe tbody tr th:only-of-type {\n        vertical-align: middle;\n    }\n\n    .dataframe tbody tr th {\n        vertical-align: top;\n    }\n\n    .dataframe thead th {\n        text-align: right;\n    }\n</style>\n<table border=\"1\" class=\"dataframe\">\n  <thead>\n    <tr style=\"text-align: right;\">\n      <th></th>\n      <th>tconst</th>\n      <th>primary_title</th>\n      <th>original_title</th>\n      <th>start_year</th>\n      <th>runtime_minutes</th>\n      <th>genres</th>\n      <th>averagerating</th>\n      <th>numvotes</th>\n    </tr>\n  </thead>\n  <tbody>\n    <tr>\n      <th>0</th>\n      <td>tt0063540</td>\n      <td>Sunghursh</td>\n      <td>Sunghursh</td>\n      <td>2013</td>\n      <td>175.0</td>\n      <td>Action,Crime,Drama</td>\n      <td>7.0</td>\n      <td>77.0</td>\n    </tr>\n    <tr>\n      <th>1</th>\n      <td>tt0066787</td>\n      <td>One Day Before the Rainy Season</td>\n      <td>Ashad Ka Ek Din</td>\n      <td>2019</td>\n      <td>114.0</td>\n      <td>Biography,Drama</td>\n      <td>7.2</td>\n      <td>43.0</td>\n    </tr>\n    <tr>\n      <th>2</th>\n      <td>tt0069049</td>\n      <td>The Other Side of the Wind</td>\n      <td>The Other Side of the Wind</td>\n      <td>2018</td>\n      <td>122.0</td>\n      <td>Drama</td>\n      <td>6.9</td>\n      <td>4517.0</td>\n    </tr>\n    <tr>\n      <th>3</th>\n      <td>tt0069204</td>\n      <td>Sabse Bada Sukh</td>\n      <td>Sabse Bada Sukh</td>\n      <td>2018</td>\n      <td>NaN</td>\n      <td>Comedy,Drama</td>\n      <td>6.1</td>\n      <td>13.0</td>\n    </tr>\n    <tr>\n      <th>4</th>\n      <td>tt0100275</td>\n      <td>The Wandering Soap Opera</td>\n      <td>La Telenovela Errante</td>\n      <td>2017</td>\n      <td>80.0</td>\n      <td>Comedy,Drama,Fantasy</td>\n      <td>6.5</td>\n      <td>119.0</td>\n    </tr>\n  </tbody>\n</table>\n</div>"
     },
     "metadata": {},
     "execution_count": 16
    }
   ],
   "source": [
    "# checking that they merged successfully\n",
    "full_imdb.head()"
   ]
  },
  {
   "cell_type": "code",
   "execution_count": 17,
   "metadata": {},
   "outputs": [
    {
     "output_type": "execute_result",
     "data": {
      "text/plain": "(146144, 8)"
     },
     "metadata": {},
     "execution_count": 17
    }
   ],
   "source": [
    "full_imdb.shape"
   ]
  },
  {
   "cell_type": "code",
   "execution_count": 18,
   "metadata": {
    "tags": []
   },
   "outputs": [
    {
     "output_type": "stream",
     "name": "stdout",
     "text": "&lt;class &#39;pandas.core.frame.DataFrame&#39;&gt;\nInt64Index: 146144 entries, 0 to 146143\nData columns (total 8 columns):\n #   Column           Non-Null Count   Dtype  \n---  ------           --------------   -----  \n 0   tconst           146144 non-null  object \n 1   primary_title    146144 non-null  object \n 2   original_title   146123 non-null  object \n 3   start_year       146144 non-null  int64  \n 4   runtime_minutes  114405 non-null  float64\n 5   genres           140736 non-null  object \n 6   averagerating    73856 non-null   float64\n 7   numvotes         73856 non-null   float64\ndtypes: float64(3), int64(1), object(4)\nmemory usage: 10.0+ MB\n"
    }
   ],
   "source": [
    "full_imdb.info()"
   ]
  },
  {
   "source": [
    "### Merging movie_db and movie_budgets"
   ],
   "cell_type": "markdown",
   "metadata": {}
  },
  {
   "cell_type": "code",
   "execution_count": 19,
   "metadata": {},
   "outputs": [
    {
     "output_type": "execute_result",
     "data": {
      "text/plain": "   Unnamed: 0          genre_ids     id original_language original_title  \\\n6           6  [28, 12, 14, 878]  19995                en         Avatar   \n\n   popularity release_date   title  vote_average  vote_count  \n6      26.526   2009-12-18  Avatar           7.4       18676  ",
      "text/html": "<div>\n<style scoped>\n    .dataframe tbody tr th:only-of-type {\n        vertical-align: middle;\n    }\n\n    .dataframe tbody tr th {\n        vertical-align: top;\n    }\n\n    .dataframe thead th {\n        text-align: right;\n    }\n</style>\n<table border=\"1\" class=\"dataframe\">\n  <thead>\n    <tr style=\"text-align: right;\">\n      <th></th>\n      <th>Unnamed: 0</th>\n      <th>genre_ids</th>\n      <th>id</th>\n      <th>original_language</th>\n      <th>original_title</th>\n      <th>popularity</th>\n      <th>release_date</th>\n      <th>title</th>\n      <th>vote_average</th>\n      <th>vote_count</th>\n    </tr>\n  </thead>\n  <tbody>\n    <tr>\n      <th>6</th>\n      <td>6</td>\n      <td>[28, 12, 14, 878]</td>\n      <td>19995</td>\n      <td>en</td>\n      <td>Avatar</td>\n      <td>26.526</td>\n      <td>2009-12-18</td>\n      <td>Avatar</td>\n      <td>7.4</td>\n      <td>18676</td>\n    </tr>\n  </tbody>\n</table>\n</div>"
     },
     "metadata": {},
     "execution_count": 19
    }
   ],
   "source": [
    "# Checking to see which columns that both movie_db and movie_budgets have in common\n",
    "movie_db.loc[movie_db['original_title'] == 'Avatar']"
   ]
  },
  {
   "cell_type": "code",
   "execution_count": 20,
   "metadata": {},
   "outputs": [
    {
     "output_type": "execute_result",
     "data": {
      "text/plain": "   id  release_date   movie production_budget domestic_gross worldwide_gross\n0   1  Dec 18, 2009  Avatar      $425,000,000   $760,507,625  $2,776,345,279",
      "text/html": "<div>\n<style scoped>\n    .dataframe tbody tr th:only-of-type {\n        vertical-align: middle;\n    }\n\n    .dataframe tbody tr th {\n        vertical-align: top;\n    }\n\n    .dataframe thead th {\n        text-align: right;\n    }\n</style>\n<table border=\"1\" class=\"dataframe\">\n  <thead>\n    <tr style=\"text-align: right;\">\n      <th></th>\n      <th>id</th>\n      <th>release_date</th>\n      <th>movie</th>\n      <th>production_budget</th>\n      <th>domestic_gross</th>\n      <th>worldwide_gross</th>\n    </tr>\n  </thead>\n  <tbody>\n    <tr>\n      <th>0</th>\n      <td>1</td>\n      <td>Dec 18, 2009</td>\n      <td>Avatar</td>\n      <td>$425,000,000</td>\n      <td>$760,507,625</td>\n      <td>$2,776,345,279</td>\n    </tr>\n  </tbody>\n</table>\n</div>"
     },
     "metadata": {},
     "execution_count": 20
    }
   ],
   "source": [
    "movie_budgets.loc[movie_budgets['movie'] == 'Avatar']"
   ]
  },
  {
   "cell_type": "code",
   "execution_count": 21,
   "metadata": {},
   "outputs": [],
   "source": [
    "# Renaming movie_budgets 'movie' column to 'title' to match movie_db, so that wE can merge them\n",
    "movie_budgets = movie_budgets.rename(columns={'movie': 'title'})\n"
   ]
  },
  {
   "cell_type": "code",
   "execution_count": 22,
   "metadata": {},
   "outputs": [
    {
     "output_type": "execute_result",
     "data": {
      "text/plain": "   id  release_date                                        title  \\\n0   1  Dec 18, 2009                                       Avatar   \n1   2  May 20, 2011  Pirates of the Caribbean: On Stranger Tides   \n2   3   Jun 7, 2019                                 Dark Phoenix   \n3   4   May 1, 2015                      Avengers: Age of Ultron   \n4   5  Dec 15, 2017            Star Wars Ep. VIII: The Last Jedi   \n\n  production_budget domestic_gross worldwide_gross  \n0      $425,000,000   $760,507,625  $2,776,345,279  \n1      $410,600,000   $241,063,875  $1,045,663,875  \n2      $350,000,000    $42,762,350    $149,762,350  \n3      $330,600,000   $459,005,868  $1,403,013,963  \n4      $317,000,000   $620,181,382  $1,316,721,747  ",
      "text/html": "<div>\n<style scoped>\n    .dataframe tbody tr th:only-of-type {\n        vertical-align: middle;\n    }\n\n    .dataframe tbody tr th {\n        vertical-align: top;\n    }\n\n    .dataframe thead th {\n        text-align: right;\n    }\n</style>\n<table border=\"1\" class=\"dataframe\">\n  <thead>\n    <tr style=\"text-align: right;\">\n      <th></th>\n      <th>id</th>\n      <th>release_date</th>\n      <th>title</th>\n      <th>production_budget</th>\n      <th>domestic_gross</th>\n      <th>worldwide_gross</th>\n    </tr>\n  </thead>\n  <tbody>\n    <tr>\n      <th>0</th>\n      <td>1</td>\n      <td>Dec 18, 2009</td>\n      <td>Avatar</td>\n      <td>$425,000,000</td>\n      <td>$760,507,625</td>\n      <td>$2,776,345,279</td>\n    </tr>\n    <tr>\n      <th>1</th>\n      <td>2</td>\n      <td>May 20, 2011</td>\n      <td>Pirates of the Caribbean: On Stranger Tides</td>\n      <td>$410,600,000</td>\n      <td>$241,063,875</td>\n      <td>$1,045,663,875</td>\n    </tr>\n    <tr>\n      <th>2</th>\n      <td>3</td>\n      <td>Jun 7, 2019</td>\n      <td>Dark Phoenix</td>\n      <td>$350,000,000</td>\n      <td>$42,762,350</td>\n      <td>$149,762,350</td>\n    </tr>\n    <tr>\n      <th>3</th>\n      <td>4</td>\n      <td>May 1, 2015</td>\n      <td>Avengers: Age of Ultron</td>\n      <td>$330,600,000</td>\n      <td>$459,005,868</td>\n      <td>$1,403,013,963</td>\n    </tr>\n    <tr>\n      <th>4</th>\n      <td>5</td>\n      <td>Dec 15, 2017</td>\n      <td>Star Wars Ep. VIII: The Last Jedi</td>\n      <td>$317,000,000</td>\n      <td>$620,181,382</td>\n      <td>$1,316,721,747</td>\n    </tr>\n  </tbody>\n</table>\n</div>"
     },
     "metadata": {},
     "execution_count": 22
    }
   ],
   "source": [
    "# checking to see if that worked\n",
    "movie_budgets.head()"
   ]
  },
  {
   "cell_type": "code",
   "execution_count": 23,
   "metadata": {},
   "outputs": [],
   "source": [
    "# merging movie_db and movie_budgets on the title column\n",
    "full_db = pd.merge(movie_db,movie_budgets, how='left', on='title')"
   ]
  },
  {
   "cell_type": "code",
   "execution_count": 24,
   "metadata": {},
   "outputs": [
    {
     "output_type": "execute_result",
     "data": {
      "text/plain": "   Unnamed: 0            genre_ids   id_x original_language  \\\n0           0      [12, 14, 10751]  12444                en   \n1           1  [14, 12, 16, 10751]  10191                en   \n2           2        [12, 28, 878]  10138                en   \n3           3      [16, 35, 10751]    862                en   \n4           4        [28, 878, 12]  27205                en   \n\n                                 original_title  popularity release_date_x  \\\n0  Harry Potter and the Deathly Hallows: Part 1      33.533     2010-11-19   \n1                      How to Train Your Dragon      28.734     2010-03-26   \n2                                    Iron Man 2      28.515     2010-05-07   \n3                                     Toy Story      28.005     1995-11-22   \n4                                     Inception      27.920     2010-07-16   \n\n                                          title  vote_average  vote_count  \\\n0  Harry Potter and the Deathly Hallows: Part 1           7.7       10788   \n1                      How to Train Your Dragon           7.7        7610   \n2                                    Iron Man 2           6.8       12368   \n3                                     Toy Story           7.9       10174   \n4                                     Inception           8.3       22186   \n\n   id_y release_date_y production_budget domestic_gross worldwide_gross  \n0   NaN            NaN               NaN            NaN             NaN  \n1  30.0   Mar 26, 2010      $165,000,000   $217,581,232    $494,870,992  \n2  15.0    May 7, 2010      $170,000,000   $312,433,331    $621,156,389  \n3  37.0   Nov 22, 1995       $30,000,000   $191,796,233    $364,545,516  \n4  38.0   Jul 16, 2010      $160,000,000   $292,576,195    $835,524,642  ",
      "text/html": "<div>\n<style scoped>\n    .dataframe tbody tr th:only-of-type {\n        vertical-align: middle;\n    }\n\n    .dataframe tbody tr th {\n        vertical-align: top;\n    }\n\n    .dataframe thead th {\n        text-align: right;\n    }\n</style>\n<table border=\"1\" class=\"dataframe\">\n  <thead>\n    <tr style=\"text-align: right;\">\n      <th></th>\n      <th>Unnamed: 0</th>\n      <th>genre_ids</th>\n      <th>id_x</th>\n      <th>original_language</th>\n      <th>original_title</th>\n      <th>popularity</th>\n      <th>release_date_x</th>\n      <th>title</th>\n      <th>vote_average</th>\n      <th>vote_count</th>\n      <th>id_y</th>\n      <th>release_date_y</th>\n      <th>production_budget</th>\n      <th>domestic_gross</th>\n      <th>worldwide_gross</th>\n    </tr>\n  </thead>\n  <tbody>\n    <tr>\n      <th>0</th>\n      <td>0</td>\n      <td>[12, 14, 10751]</td>\n      <td>12444</td>\n      <td>en</td>\n      <td>Harry Potter and the Deathly Hallows: Part 1</td>\n      <td>33.533</td>\n      <td>2010-11-19</td>\n      <td>Harry Potter and the Deathly Hallows: Part 1</td>\n      <td>7.7</td>\n      <td>10788</td>\n      <td>NaN</td>\n      <td>NaN</td>\n      <td>NaN</td>\n      <td>NaN</td>\n      <td>NaN</td>\n    </tr>\n    <tr>\n      <th>1</th>\n      <td>1</td>\n      <td>[14, 12, 16, 10751]</td>\n      <td>10191</td>\n      <td>en</td>\n      <td>How to Train Your Dragon</td>\n      <td>28.734</td>\n      <td>2010-03-26</td>\n      <td>How to Train Your Dragon</td>\n      <td>7.7</td>\n      <td>7610</td>\n      <td>30.0</td>\n      <td>Mar 26, 2010</td>\n      <td>$165,000,000</td>\n      <td>$217,581,232</td>\n      <td>$494,870,992</td>\n    </tr>\n    <tr>\n      <th>2</th>\n      <td>2</td>\n      <td>[12, 28, 878]</td>\n      <td>10138</td>\n      <td>en</td>\n      <td>Iron Man 2</td>\n      <td>28.515</td>\n      <td>2010-05-07</td>\n      <td>Iron Man 2</td>\n      <td>6.8</td>\n      <td>12368</td>\n      <td>15.0</td>\n      <td>May 7, 2010</td>\n      <td>$170,000,000</td>\n      <td>$312,433,331</td>\n      <td>$621,156,389</td>\n    </tr>\n    <tr>\n      <th>3</th>\n      <td>3</td>\n      <td>[16, 35, 10751]</td>\n      <td>862</td>\n      <td>en</td>\n      <td>Toy Story</td>\n      <td>28.005</td>\n      <td>1995-11-22</td>\n      <td>Toy Story</td>\n      <td>7.9</td>\n      <td>10174</td>\n      <td>37.0</td>\n      <td>Nov 22, 1995</td>\n      <td>$30,000,000</td>\n      <td>$191,796,233</td>\n      <td>$364,545,516</td>\n    </tr>\n    <tr>\n      <th>4</th>\n      <td>4</td>\n      <td>[28, 878, 12]</td>\n      <td>27205</td>\n      <td>en</td>\n      <td>Inception</td>\n      <td>27.920</td>\n      <td>2010-07-16</td>\n      <td>Inception</td>\n      <td>8.3</td>\n      <td>22186</td>\n      <td>38.0</td>\n      <td>Jul 16, 2010</td>\n      <td>$160,000,000</td>\n      <td>$292,576,195</td>\n      <td>$835,524,642</td>\n    </tr>\n  </tbody>\n</table>\n</div>"
     },
     "metadata": {},
     "execution_count": 24
    }
   ],
   "source": [
    "# checking that they merged successfully\n",
    "full_db.head()"
   ]
  },
  {
   "cell_type": "code",
   "execution_count": 25,
   "metadata": {},
   "outputs": [
    {
     "output_type": "execute_result",
     "data": {
      "text/plain": "(26606, 15)"
     },
     "metadata": {},
     "execution_count": 25
    }
   ],
   "source": [
    "# checking size of full_db\n",
    "full_db.shape"
   ]
  },
  {
   "source": [
    "### Renaming column names for full_imdb and full_db before merging\n",
    "Here, I am renmaing any column that repeats across both full_imdb and full_db. I just added 'imdb' or 'db' in front of the existing column name. This is so we can preserve the data from each column, and distingush where it came from later."
   ],
   "cell_type": "markdown",
   "metadata": {}
  },
  {
   "cell_type": "code",
   "execution_count": 26,
   "metadata": {},
   "outputs": [],
   "source": [
    "# renaming columns in full_imdb\n",
    "full_imdb = full_imdb.rename(columns={'tconst': 'imdb_tconst'})\n",
    "full_imdb = full_imdb.rename(columns={'original_title': 'imdb_orig_title'})\n",
    "full_imdb = full_imdb.rename(columns={'averagerating': 'imdb_avg_rating'})\n",
    "full_imdb = full_imdb.rename(columns={'numvotes': 'imdb_numvotes'})\n",
    "\n",
    "# renaming columsn in full_db\n",
    "full_db = full_db.rename(columns={'genre_ids': 'db_genre_ids'})\n",
    "full_db = full_db.rename(columns={'id_x': 'db_id_x'})\n",
    "full_db = full_db.rename(columns={'original_title': 'db_orig_title'})\n",
    "full_db = full_db.rename(columns={'popularity': 'db_popularity'})\n",
    "full_db = full_db.rename(columns={'id_x': 'db_id_x'})\n",
    "# renaming title to primary_title because this is the column i will use to join both DataFrames later\n",
    "full_db = full_db.rename(columns={'title': 'primary_title'})\n",
    "full_db = full_db.rename(columns={'vote_average': 'db_vote_avg'})\n",
    "full_db = full_db.rename(columns={'vote_count': 'db_vote_count'})\n",
    "full_db = full_db.rename(columns={'id_y': 'db_id_y'})\n"
   ]
  },
  {
   "cell_type": "code",
   "execution_count": 27,
   "metadata": {},
   "outputs": [
    {
     "output_type": "execute_result",
     "data": {
      "text/plain": "  imdb_tconst                    primary_title             imdb_orig_title  \\\n0   tt0063540                        Sunghursh                   Sunghursh   \n1   tt0066787  One Day Before the Rainy Season             Ashad Ka Ek Din   \n2   tt0069049       The Other Side of the Wind  The Other Side of the Wind   \n3   tt0069204                  Sabse Bada Sukh             Sabse Bada Sukh   \n4   tt0100275         The Wandering Soap Opera       La Telenovela Errante   \n\n   start_year  runtime_minutes                genres  imdb_avg_rating  \\\n0        2013            175.0    Action,Crime,Drama              7.0   \n1        2019            114.0       Biography,Drama              7.2   \n2        2018            122.0                 Drama              6.9   \n3        2018              NaN          Comedy,Drama              6.1   \n4        2017             80.0  Comedy,Drama,Fantasy              6.5   \n\n   imdb_numvotes  \n0           77.0  \n1           43.0  \n2         4517.0  \n3           13.0  \n4          119.0  ",
      "text/html": "<div>\n<style scoped>\n    .dataframe tbody tr th:only-of-type {\n        vertical-align: middle;\n    }\n\n    .dataframe tbody tr th {\n        vertical-align: top;\n    }\n\n    .dataframe thead th {\n        text-align: right;\n    }\n</style>\n<table border=\"1\" class=\"dataframe\">\n  <thead>\n    <tr style=\"text-align: right;\">\n      <th></th>\n      <th>imdb_tconst</th>\n      <th>primary_title</th>\n      <th>imdb_orig_title</th>\n      <th>start_year</th>\n      <th>runtime_minutes</th>\n      <th>genres</th>\n      <th>imdb_avg_rating</th>\n      <th>imdb_numvotes</th>\n    </tr>\n  </thead>\n  <tbody>\n    <tr>\n      <th>0</th>\n      <td>tt0063540</td>\n      <td>Sunghursh</td>\n      <td>Sunghursh</td>\n      <td>2013</td>\n      <td>175.0</td>\n      <td>Action,Crime,Drama</td>\n      <td>7.0</td>\n      <td>77.0</td>\n    </tr>\n    <tr>\n      <th>1</th>\n      <td>tt0066787</td>\n      <td>One Day Before the Rainy Season</td>\n      <td>Ashad Ka Ek Din</td>\n      <td>2019</td>\n      <td>114.0</td>\n      <td>Biography,Drama</td>\n      <td>7.2</td>\n      <td>43.0</td>\n    </tr>\n    <tr>\n      <th>2</th>\n      <td>tt0069049</td>\n      <td>The Other Side of the Wind</td>\n      <td>The Other Side of the Wind</td>\n      <td>2018</td>\n      <td>122.0</td>\n      <td>Drama</td>\n      <td>6.9</td>\n      <td>4517.0</td>\n    </tr>\n    <tr>\n      <th>3</th>\n      <td>tt0069204</td>\n      <td>Sabse Bada Sukh</td>\n      <td>Sabse Bada Sukh</td>\n      <td>2018</td>\n      <td>NaN</td>\n      <td>Comedy,Drama</td>\n      <td>6.1</td>\n      <td>13.0</td>\n    </tr>\n    <tr>\n      <th>4</th>\n      <td>tt0100275</td>\n      <td>The Wandering Soap Opera</td>\n      <td>La Telenovela Errante</td>\n      <td>2017</td>\n      <td>80.0</td>\n      <td>Comedy,Drama,Fantasy</td>\n      <td>6.5</td>\n      <td>119.0</td>\n    </tr>\n  </tbody>\n</table>\n</div>"
     },
     "metadata": {},
     "execution_count": 27
    }
   ],
   "source": [
    "# Checking that full_imdb columns were renamed successfully\n",
    "full_imdb.head()"
   ]
  },
  {
   "cell_type": "code",
   "execution_count": 28,
   "metadata": {},
   "outputs": [
    {
     "output_type": "execute_result",
     "data": {
      "text/plain": "   Unnamed: 0         db_genre_ids  db_id_x original_language  \\\n0           0      [12, 14, 10751]    12444                en   \n1           1  [14, 12, 16, 10751]    10191                en   \n2           2        [12, 28, 878]    10138                en   \n3           3      [16, 35, 10751]      862                en   \n4           4        [28, 878, 12]    27205                en   \n\n                                  db_orig_title  db_popularity release_date_x  \\\n0  Harry Potter and the Deathly Hallows: Part 1         33.533     2010-11-19   \n1                      How to Train Your Dragon         28.734     2010-03-26   \n2                                    Iron Man 2         28.515     2010-05-07   \n3                                     Toy Story         28.005     1995-11-22   \n4                                     Inception         27.920     2010-07-16   \n\n                                  primary_title  db_vote_avg  db_vote_count  \\\n0  Harry Potter and the Deathly Hallows: Part 1          7.7          10788   \n1                      How to Train Your Dragon          7.7           7610   \n2                                    Iron Man 2          6.8          12368   \n3                                     Toy Story          7.9          10174   \n4                                     Inception          8.3          22186   \n\n   db_id_y release_date_y production_budget domestic_gross worldwide_gross  \n0      NaN            NaN               NaN            NaN             NaN  \n1     30.0   Mar 26, 2010      $165,000,000   $217,581,232    $494,870,992  \n2     15.0    May 7, 2010      $170,000,000   $312,433,331    $621,156,389  \n3     37.0   Nov 22, 1995       $30,000,000   $191,796,233    $364,545,516  \n4     38.0   Jul 16, 2010      $160,000,000   $292,576,195    $835,524,642  ",
      "text/html": "<div>\n<style scoped>\n    .dataframe tbody tr th:only-of-type {\n        vertical-align: middle;\n    }\n\n    .dataframe tbody tr th {\n        vertical-align: top;\n    }\n\n    .dataframe thead th {\n        text-align: right;\n    }\n</style>\n<table border=\"1\" class=\"dataframe\">\n  <thead>\n    <tr style=\"text-align: right;\">\n      <th></th>\n      <th>Unnamed: 0</th>\n      <th>db_genre_ids</th>\n      <th>db_id_x</th>\n      <th>original_language</th>\n      <th>db_orig_title</th>\n      <th>db_popularity</th>\n      <th>release_date_x</th>\n      <th>primary_title</th>\n      <th>db_vote_avg</th>\n      <th>db_vote_count</th>\n      <th>db_id_y</th>\n      <th>release_date_y</th>\n      <th>production_budget</th>\n      <th>domestic_gross</th>\n      <th>worldwide_gross</th>\n    </tr>\n  </thead>\n  <tbody>\n    <tr>\n      <th>0</th>\n      <td>0</td>\n      <td>[12, 14, 10751]</td>\n      <td>12444</td>\n      <td>en</td>\n      <td>Harry Potter and the Deathly Hallows: Part 1</td>\n      <td>33.533</td>\n      <td>2010-11-19</td>\n      <td>Harry Potter and the Deathly Hallows: Part 1</td>\n      <td>7.7</td>\n      <td>10788</td>\n      <td>NaN</td>\n      <td>NaN</td>\n      <td>NaN</td>\n      <td>NaN</td>\n      <td>NaN</td>\n    </tr>\n    <tr>\n      <th>1</th>\n      <td>1</td>\n      <td>[14, 12, 16, 10751]</td>\n      <td>10191</td>\n      <td>en</td>\n      <td>How to Train Your Dragon</td>\n      <td>28.734</td>\n      <td>2010-03-26</td>\n      <td>How to Train Your Dragon</td>\n      <td>7.7</td>\n      <td>7610</td>\n      <td>30.0</td>\n      <td>Mar 26, 2010</td>\n      <td>$165,000,000</td>\n      <td>$217,581,232</td>\n      <td>$494,870,992</td>\n    </tr>\n    <tr>\n      <th>2</th>\n      <td>2</td>\n      <td>[12, 28, 878]</td>\n      <td>10138</td>\n      <td>en</td>\n      <td>Iron Man 2</td>\n      <td>28.515</td>\n      <td>2010-05-07</td>\n      <td>Iron Man 2</td>\n      <td>6.8</td>\n      <td>12368</td>\n      <td>15.0</td>\n      <td>May 7, 2010</td>\n      <td>$170,000,000</td>\n      <td>$312,433,331</td>\n      <td>$621,156,389</td>\n    </tr>\n    <tr>\n      <th>3</th>\n      <td>3</td>\n      <td>[16, 35, 10751]</td>\n      <td>862</td>\n      <td>en</td>\n      <td>Toy Story</td>\n      <td>28.005</td>\n      <td>1995-11-22</td>\n      <td>Toy Story</td>\n      <td>7.9</td>\n      <td>10174</td>\n      <td>37.0</td>\n      <td>Nov 22, 1995</td>\n      <td>$30,000,000</td>\n      <td>$191,796,233</td>\n      <td>$364,545,516</td>\n    </tr>\n    <tr>\n      <th>4</th>\n      <td>4</td>\n      <td>[28, 878, 12]</td>\n      <td>27205</td>\n      <td>en</td>\n      <td>Inception</td>\n      <td>27.920</td>\n      <td>2010-07-16</td>\n      <td>Inception</td>\n      <td>8.3</td>\n      <td>22186</td>\n      <td>38.0</td>\n      <td>Jul 16, 2010</td>\n      <td>$160,000,000</td>\n      <td>$292,576,195</td>\n      <td>$835,524,642</td>\n    </tr>\n  </tbody>\n</table>\n</div>"
     },
     "metadata": {},
     "execution_count": 28
    }
   ],
   "source": [
    "# Checking that full_db columns were renamed successfully\n",
    "full_db.head()"
   ]
  },
  {
   "source": [
    "### Dropping 'unnamed: 0' column from full_db"
   ],
   "cell_type": "markdown",
   "metadata": {}
  },
  {
   "cell_type": "code",
   "execution_count": 29,
   "metadata": {},
   "outputs": [
    {
     "output_type": "execute_result",
     "data": {
      "text/plain": "Unnamed: 0                                        336\ndb_genre_ids         [12, 14, 16, 28, 53, 878, 10751]\ndb_id_x                                         50337\noriginal_language                                  en\ndb_orig_title                            Firebreather\ndb_popularity                                   6.591\nrelease_date_x                             2010-11-24\nprimary_title                            Firebreather\ndb_vote_avg                                       6.2\ndb_vote_count                                      33\ndb_id_y                                           NaN\nrelease_date_y                                    NaN\nproduction_budget                                 NaN\ndomestic_gross                                    NaN\nworldwide_gross                                   NaN\nName: 344, dtype: object"
     },
     "metadata": {},
     "execution_count": 29
    }
   ],
   "source": [
    "# Confirming that 'unnamed: 0' is just indexing rows\n",
    "full_db.iloc[344]"
   ]
  },
  {
   "cell_type": "code",
   "execution_count": 30,
   "metadata": {},
   "outputs": [],
   "source": [
    "# Since 'unnamed: 0' was only present in tmdb.movies, it isn't consistent for indexing the merged full_db. So i'm going to drop it.\n",
    "full_db = full_db.drop('Unnamed: 0', axis=1)"
   ]
  },
  {
   "cell_type": "code",
   "execution_count": 31,
   "metadata": {},
   "outputs": [
    {
     "output_type": "execute_result",
     "data": {
      "text/plain": "          db_genre_ids  db_id_x original_language  \\\n0      [12, 14, 10751]    12444                en   \n1  [14, 12, 16, 10751]    10191                en   \n2        [12, 28, 878]    10138                en   \n3      [16, 35, 10751]      862                en   \n4        [28, 878, 12]    27205                en   \n\n                                  db_orig_title  db_popularity release_date_x  \\\n0  Harry Potter and the Deathly Hallows: Part 1         33.533     2010-11-19   \n1                      How to Train Your Dragon         28.734     2010-03-26   \n2                                    Iron Man 2         28.515     2010-05-07   \n3                                     Toy Story         28.005     1995-11-22   \n4                                     Inception         27.920     2010-07-16   \n\n                                  primary_title  db_vote_avg  db_vote_count  \\\n0  Harry Potter and the Deathly Hallows: Part 1          7.7          10788   \n1                      How to Train Your Dragon          7.7           7610   \n2                                    Iron Man 2          6.8          12368   \n3                                     Toy Story          7.9          10174   \n4                                     Inception          8.3          22186   \n\n   db_id_y release_date_y production_budget domestic_gross worldwide_gross  \n0      NaN            NaN               NaN            NaN             NaN  \n1     30.0   Mar 26, 2010      $165,000,000   $217,581,232    $494,870,992  \n2     15.0    May 7, 2010      $170,000,000   $312,433,331    $621,156,389  \n3     37.0   Nov 22, 1995       $30,000,000   $191,796,233    $364,545,516  \n4     38.0   Jul 16, 2010      $160,000,000   $292,576,195    $835,524,642  ",
      "text/html": "<div>\n<style scoped>\n    .dataframe tbody tr th:only-of-type {\n        vertical-align: middle;\n    }\n\n    .dataframe tbody tr th {\n        vertical-align: top;\n    }\n\n    .dataframe thead th {\n        text-align: right;\n    }\n</style>\n<table border=\"1\" class=\"dataframe\">\n  <thead>\n    <tr style=\"text-align: right;\">\n      <th></th>\n      <th>db_genre_ids</th>\n      <th>db_id_x</th>\n      <th>original_language</th>\n      <th>db_orig_title</th>\n      <th>db_popularity</th>\n      <th>release_date_x</th>\n      <th>primary_title</th>\n      <th>db_vote_avg</th>\n      <th>db_vote_count</th>\n      <th>db_id_y</th>\n      <th>release_date_y</th>\n      <th>production_budget</th>\n      <th>domestic_gross</th>\n      <th>worldwide_gross</th>\n    </tr>\n  </thead>\n  <tbody>\n    <tr>\n      <th>0</th>\n      <td>[12, 14, 10751]</td>\n      <td>12444</td>\n      <td>en</td>\n      <td>Harry Potter and the Deathly Hallows: Part 1</td>\n      <td>33.533</td>\n      <td>2010-11-19</td>\n      <td>Harry Potter and the Deathly Hallows: Part 1</td>\n      <td>7.7</td>\n      <td>10788</td>\n      <td>NaN</td>\n      <td>NaN</td>\n      <td>NaN</td>\n      <td>NaN</td>\n      <td>NaN</td>\n    </tr>\n    <tr>\n      <th>1</th>\n      <td>[14, 12, 16, 10751]</td>\n      <td>10191</td>\n      <td>en</td>\n      <td>How to Train Your Dragon</td>\n      <td>28.734</td>\n      <td>2010-03-26</td>\n      <td>How to Train Your Dragon</td>\n      <td>7.7</td>\n      <td>7610</td>\n      <td>30.0</td>\n      <td>Mar 26, 2010</td>\n      <td>$165,000,000</td>\n      <td>$217,581,232</td>\n      <td>$494,870,992</td>\n    </tr>\n    <tr>\n      <th>2</th>\n      <td>[12, 28, 878]</td>\n      <td>10138</td>\n      <td>en</td>\n      <td>Iron Man 2</td>\n      <td>28.515</td>\n      <td>2010-05-07</td>\n      <td>Iron Man 2</td>\n      <td>6.8</td>\n      <td>12368</td>\n      <td>15.0</td>\n      <td>May 7, 2010</td>\n      <td>$170,000,000</td>\n      <td>$312,433,331</td>\n      <td>$621,156,389</td>\n    </tr>\n    <tr>\n      <th>3</th>\n      <td>[16, 35, 10751]</td>\n      <td>862</td>\n      <td>en</td>\n      <td>Toy Story</td>\n      <td>28.005</td>\n      <td>1995-11-22</td>\n      <td>Toy Story</td>\n      <td>7.9</td>\n      <td>10174</td>\n      <td>37.0</td>\n      <td>Nov 22, 1995</td>\n      <td>$30,000,000</td>\n      <td>$191,796,233</td>\n      <td>$364,545,516</td>\n    </tr>\n    <tr>\n      <th>4</th>\n      <td>[28, 878, 12]</td>\n      <td>27205</td>\n      <td>en</td>\n      <td>Inception</td>\n      <td>27.920</td>\n      <td>2010-07-16</td>\n      <td>Inception</td>\n      <td>8.3</td>\n      <td>22186</td>\n      <td>38.0</td>\n      <td>Jul 16, 2010</td>\n      <td>$160,000,000</td>\n      <td>$292,576,195</td>\n      <td>$835,524,642</td>\n    </tr>\n  </tbody>\n</table>\n</div>"
     },
     "metadata": {},
     "execution_count": 31
    }
   ],
   "source": [
    "# Confirming that the drop worked\n",
    "full_db.head()"
   ]
  },
  {
   "source": [
    "## Combining the DataFrames full_imdb and full_db"
   ],
   "cell_type": "markdown",
   "metadata": {}
  },
  {
   "cell_type": "code",
   "execution_count": 32,
   "metadata": {},
   "outputs": [],
   "source": [
    "# Merging them with Inner Join, so we only get 'primary_title's that appear on both datasets\n",
    "all_movies = full_imdb.merge(full_db, on='primary_title', how='inner')\n"
   ]
  },
  {
   "cell_type": "code",
   "execution_count": 33,
   "metadata": {},
   "outputs": [
    {
     "output_type": "execute_result",
     "data": {
      "text/plain": "  imdb_tconst               primary_title             imdb_orig_title  \\\n0   tt0069049  The Other Side of the Wind  The Other Side of the Wind   \n1   tt0112502                     Bigfoot                     Bigfoot   \n2   tt4503112                     Bigfoot                     Bigfoot   \n3   tt9181914                     Bigfoot                     Bigfoot   \n4   tt0192528               Heaven &amp; Hell              Reverse Heaven   \n\n   start_year  runtime_minutes            genres  imdb_avg_rating  \\\n0        2018            122.0             Drama              6.9   \n1        2017              NaN   Horror,Thriller              4.1   \n2        2018              NaN     Action,Horror              4.6   \n3        2018             86.0  Animation,Family              2.5   \n4        2018            104.0             Drama              4.0   \n\n   imdb_numvotes   db_genre_ids  db_id_x  ...               db_orig_title  \\\n0         4517.0       [35, 18]   299782  ...  The Other Side of the Wind   \n1           32.0  [27, 878, 12]   117856  ...                     Bigfoot   \n2            9.0  [27, 878, 12]   117856  ...                     Bigfoot   \n3           55.0  [27, 878, 12]   117856  ...                     Bigfoot   \n4           72.0           [18]   567662  ...               Heaven &amp; Hell   \n\n  db_popularity  release_date_x db_vote_avg  db_vote_count  db_id_y  \\\n0         9.800      2018-11-02         7.0             64      NaN   \n1         2.813      2012-06-30         2.9             26      NaN   \n2         2.813      2012-06-30         2.9             26      NaN   \n3         2.813      2012-06-30         2.9             26      NaN   \n4         0.600      2018-11-06         7.5              2      NaN   \n\n   release_date_y production_budget domestic_gross worldwide_gross  \n0             NaN               NaN            NaN             NaN  \n1             NaN               NaN            NaN             NaN  \n2             NaN               NaN            NaN             NaN  \n3             NaN               NaN            NaN             NaN  \n4             NaN               NaN            NaN             NaN  \n\n[5 rows x 21 columns]",
      "text/html": "<div>\n<style scoped>\n    .dataframe tbody tr th:only-of-type {\n        vertical-align: middle;\n    }\n\n    .dataframe tbody tr th {\n        vertical-align: top;\n    }\n\n    .dataframe thead th {\n        text-align: right;\n    }\n</style>\n<table border=\"1\" class=\"dataframe\">\n  <thead>\n    <tr style=\"text-align: right;\">\n      <th></th>\n      <th>imdb_tconst</th>\n      <th>primary_title</th>\n      <th>imdb_orig_title</th>\n      <th>start_year</th>\n      <th>runtime_minutes</th>\n      <th>genres</th>\n      <th>imdb_avg_rating</th>\n      <th>imdb_numvotes</th>\n      <th>db_genre_ids</th>\n      <th>db_id_x</th>\n      <th>...</th>\n      <th>db_orig_title</th>\n      <th>db_popularity</th>\n      <th>release_date_x</th>\n      <th>db_vote_avg</th>\n      <th>db_vote_count</th>\n      <th>db_id_y</th>\n      <th>release_date_y</th>\n      <th>production_budget</th>\n      <th>domestic_gross</th>\n      <th>worldwide_gross</th>\n    </tr>\n  </thead>\n  <tbody>\n    <tr>\n      <th>0</th>\n      <td>tt0069049</td>\n      <td>The Other Side of the Wind</td>\n      <td>The Other Side of the Wind</td>\n      <td>2018</td>\n      <td>122.0</td>\n      <td>Drama</td>\n      <td>6.9</td>\n      <td>4517.0</td>\n      <td>[35, 18]</td>\n      <td>299782</td>\n      <td>...</td>\n      <td>The Other Side of the Wind</td>\n      <td>9.800</td>\n      <td>2018-11-02</td>\n      <td>7.0</td>\n      <td>64</td>\n      <td>NaN</td>\n      <td>NaN</td>\n      <td>NaN</td>\n      <td>NaN</td>\n      <td>NaN</td>\n    </tr>\n    <tr>\n      <th>1</th>\n      <td>tt0112502</td>\n      <td>Bigfoot</td>\n      <td>Bigfoot</td>\n      <td>2017</td>\n      <td>NaN</td>\n      <td>Horror,Thriller</td>\n      <td>4.1</td>\n      <td>32.0</td>\n      <td>[27, 878, 12]</td>\n      <td>117856</td>\n      <td>...</td>\n      <td>Bigfoot</td>\n      <td>2.813</td>\n      <td>2012-06-30</td>\n      <td>2.9</td>\n      <td>26</td>\n      <td>NaN</td>\n      <td>NaN</td>\n      <td>NaN</td>\n      <td>NaN</td>\n      <td>NaN</td>\n    </tr>\n    <tr>\n      <th>2</th>\n      <td>tt4503112</td>\n      <td>Bigfoot</td>\n      <td>Bigfoot</td>\n      <td>2018</td>\n      <td>NaN</td>\n      <td>Action,Horror</td>\n      <td>4.6</td>\n      <td>9.0</td>\n      <td>[27, 878, 12]</td>\n      <td>117856</td>\n      <td>...</td>\n      <td>Bigfoot</td>\n      <td>2.813</td>\n      <td>2012-06-30</td>\n      <td>2.9</td>\n      <td>26</td>\n      <td>NaN</td>\n      <td>NaN</td>\n      <td>NaN</td>\n      <td>NaN</td>\n      <td>NaN</td>\n    </tr>\n    <tr>\n      <th>3</th>\n      <td>tt9181914</td>\n      <td>Bigfoot</td>\n      <td>Bigfoot</td>\n      <td>2018</td>\n      <td>86.0</td>\n      <td>Animation,Family</td>\n      <td>2.5</td>\n      <td>55.0</td>\n      <td>[27, 878, 12]</td>\n      <td>117856</td>\n      <td>...</td>\n      <td>Bigfoot</td>\n      <td>2.813</td>\n      <td>2012-06-30</td>\n      <td>2.9</td>\n      <td>26</td>\n      <td>NaN</td>\n      <td>NaN</td>\n      <td>NaN</td>\n      <td>NaN</td>\n      <td>NaN</td>\n    </tr>\n    <tr>\n      <th>4</th>\n      <td>tt0192528</td>\n      <td>Heaven &amp; Hell</td>\n      <td>Reverse Heaven</td>\n      <td>2018</td>\n      <td>104.0</td>\n      <td>Drama</td>\n      <td>4.0</td>\n      <td>72.0</td>\n      <td>[18]</td>\n      <td>567662</td>\n      <td>...</td>\n      <td>Heaven &amp; Hell</td>\n      <td>0.600</td>\n      <td>2018-11-06</td>\n      <td>7.5</td>\n      <td>2</td>\n      <td>NaN</td>\n      <td>NaN</td>\n      <td>NaN</td>\n      <td>NaN</td>\n      <td>NaN</td>\n    </tr>\n  </tbody>\n</table>\n<p>5 rows × 21 columns</p>\n</div>"
     },
     "metadata": {},
     "execution_count": 33
    }
   ],
   "source": [
    "# Checking that it worked\n",
    "all_movies.head()"
   ]
  },
  {
   "cell_type": "code",
   "execution_count": 34,
   "metadata": {},
   "outputs": [
    {
     "output_type": "execute_result",
     "data": {
      "text/plain": "(24204, 21)"
     },
     "metadata": {},
     "execution_count": 34
    }
   ],
   "source": [
    "# Checking amount of rows and columns\n",
    "all_movies.shape"
   ]
  },
  {
   "source": [
    "## Data Cleaning for all_movies"
   ],
   "cell_type": "markdown",
   "metadata": {}
  },
  {
   "cell_type": "code",
   "execution_count": 35,
   "metadata": {},
   "outputs": [
    {
     "output_type": "execute_result",
     "data": {
      "text/plain": "imdb_tconst              0\nprimary_title            0\nimdb_orig_title          5\nstart_year               0\nruntime_minutes       1935\ngenres                 356\nimdb_avg_rating       3974\nimdb_numvotes         3974\ndb_genre_ids             0\ndb_id_x                  0\noriginal_language        0\ndb_orig_title            0\ndb_popularity            0\nrelease_date_x           0\ndb_vote_avg              0\ndb_vote_count            0\ndb_id_y              19654\nrelease_date_y       19654\nproduction_budget    19654\ndomestic_gross       19654\nworldwide_gross      19654\ndtype: int64"
     },
     "metadata": {},
     "execution_count": 35
    }
   ],
   "source": [
    "# checking for nan values\n",
    "all_movies.isna().sum()"
   ]
  },
  {
   "cell_type": "code",
   "execution_count": 36,
   "metadata": {},
   "outputs": [],
   "source": [
    "# Dropping rows that have a repeating 'primary_title' value. This makes sure that there's only one entry per movie\n",
    "all_movies = all_movies.drop_duplicates(subset='primary_title', keep='first', inplace=False)"
   ]
  },
  {
   "cell_type": "code",
   "execution_count": 37,
   "metadata": {},
   "outputs": [],
   "source": [
    "# Keeping missing data and replacing NaN with a string\n",
    "\n",
    "# This categorical data can't really be \"filled in\" so it's better to just replace the missing values with a string, so I won't have to drop the rows.\n",
    "all_movies.fillna({'genres':'missing', 'imdb_orig_title':'missing'}, inplace=True)\n",
    "\n",
    "# These columns are important for my analysis and I don't want to drop such a large amount of data. But replacing the data with a median would skew everything too much. It's better to work with the smaller sample data that's here.\n",
    "# So I replaced them with np.nan\n",
    "all_movies.fillna({'production_budget': np.nan, 'domestic_gross': np.nan,'worldwide_gross': np.nan}, inplace=True)\n"
   ]
  },
  {
   "cell_type": "code",
   "execution_count": 38,
   "metadata": {},
   "outputs": [],
   "source": [
    "# converting to all currency values to float\n",
    "\n",
    "# removing symbols from production_budget\n",
    "all_movies['production_budget'] = all_movies['production_budget'].str.replace(',', '')\n",
    "all_movies['production_budget'] = all_movies['production_budget'].str.replace('$', '')\n",
    "# converting values in production_budget to float\n",
    "all_movies['production_budget'] = all_movies['production_budget'].apply(lambda x: float(x))\n",
    "\n",
    "# removing symbols from worldwide_gross\n",
    "all_movies['worldwide_gross'] = all_movies['worldwide_gross'].str.replace(',', '')\n",
    "all_movies['worldwide_gross'] = all_movies['worldwide_gross'].str.replace('$', '')\n",
    "# converting values in worldwide_gross to float\n",
    "all_movies['worldwide_gross'] = all_movies['worldwide_gross'].apply(lambda x: float(x))\n",
    "\n",
    "# removing symbols from domestic_gross\n",
    "all_movies['domestic_gross'] = all_movies['domestic_gross'].str.replace(',', '')\n",
    "all_movies['domestic_gross'] = all_movies['domestic_gross'].str.replace('$', '')\n",
    "# converting values in domestic_gross to float\n",
    "all_movies['domestic_gross'] = all_movies['domestic_gross'].apply(lambda x: float(x))"
   ]
  },
  {
   "cell_type": "code",
   "execution_count": 39,
   "metadata": {},
   "outputs": [],
   "source": [
    "# Replacing numerical values with the column's median\n",
    "# We do this because filling in NaN values with the column median will have the least impact on the data\n",
    "all_movies.fillna({'runtime_minutes': (all_movies['runtime_minutes'].median()),\n",
    "'imdb_avg_rating': (all_movies['imdb_avg_rating'].median()), \n",
    "'imdb_numvotes': (all_movies['imdb_numvotes'].median())}, inplace=True)\n"
   ]
  },
  {
   "cell_type": "code",
   "execution_count": 40,
   "metadata": {},
   "outputs": [],
   "source": [
    "# Dropping columns that have no impact on the DataFrame because I'm not using it in the analysis\n",
    "all_movies.drop('db_id_y', axis=1, inplace=True)\n",
    "all_movies.drop('release_date_y', axis=1, inplace=True)"
   ]
  },
  {
   "source": [
    "## Saving cleaned dataset as CSV"
   ],
   "cell_type": "markdown",
   "metadata": {}
  },
  {
   "cell_type": "code",
   "execution_count": 41,
   "metadata": {},
   "outputs": [],
   "source": [
    "# save cleaned dataset as CSV\n",
    "all_movies.to_csv('./all_movies_df.csv')"
   ]
  }
 ]
}